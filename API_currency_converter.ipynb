{
 "cells": [
  {
   "cell_type": "markdown",
   "id": "2d7685d7",
   "metadata": {},
   "source": [
    "# currency converter\n"
   ]
  },
  {
   "cell_type": "markdown",
   "id": "20983ed9",
   "metadata": {},
   "source": [
    "steps"
   ]
  },
  {
   "cell_type": "markdown",
   "id": "4ddc4575",
   "metadata": {},
   "source": [
    "gather the parameters of interest"
   ]
  },
  {
   "cell_type": "markdown",
   "id": "dc096eb2",
   "metadata": {},
   "source": [
    "construct the url and send a get request to it"
   ]
  },
  {
   "cell_type": "markdown",
   "id": "fde6b4f9",
   "metadata": {},
   "source": [
    "for unsuccessful requests print the error message"
   ]
  },
  {
   "cell_type": "markdown",
   "id": "1493e814",
   "metadata": {},
   "source": [
    "for successful requests: extract the relevant data and calculate the result"
   ]
  },
  {
   "cell_type": "markdown",
   "id": "ae21b3ba",
   "metadata": {},
   "source": [
    "display the results to the user"
   ]
  },
  {
   "cell_type": "code",
   "execution_count": null,
   "id": "f80f38f6",
   "metadata": {},
   "outputs": [],
   "source": [
    "date=input(\"Please enter the date (in the format 'yyyy-mm-dd' or latest)\")\n",
    "base=input(\"convert from (currency): \")\n",
    "currency=input(\"convert to (currency):\")\n",
    "quantity=float(input(\"how much {} do you want to convert:\".format(base)))\n",
    "import os\n",
    "from dotenv import load_dotenv\n",
    "import json\n",
    "import requests\n",
    "load_dotenv()\n",
    "api_key=os.getenv(\"API_KEY\")\n",
    "url=\"http://api.exchangeratesapi.io/v1/\" +date+ f\"?access_key={api_key}\"+\"&symbols=\"+currency+\"&base=\"+ base\n",
    "response=requests.get(url)\n",
    "if(response.ok is False):\n",
    "    print(\"\\n Error {}\".format(response.status_code))\n",
    "    print(response.json()[\"error\"])\n",
    "          \n",
    "else:\n",
    "    data=response.json()\n",
    "    rate=data[\"rates\"][currency]\n",
    "    result=rate*quantity\n",
    "    print(\"\\n{0} {1} is equal to {2} {3}, based upon exchange rates on {4}\".format(date,base,result,rate,data[\"date\"]))\n",
    "          \n",
    "    "
   ]
  },
  {
   "cell_type": "code",
   "execution_count": 15,
   "id": "dc6c4edd",
   "metadata": {},
   "outputs": [
    {
     "data": {
      "text/plain": [
       "'http://api.exchangeratesapi.io/v1/2016-12-01?access_key=29a8aa46062e922711970a495403d72d&symbols=USD&base=INR'"
      ]
     },
     "execution_count": 15,
     "metadata": {},
     "output_type": "execute_result"
    }
   ],
   "source": [
    "url"
   ]
  },
  {
   "cell_type": "code",
   "execution_count": null,
   "id": "d874dd18",
   "metadata": {},
   "outputs": [],
   "source": []
  },
  {
   "cell_type": "code",
   "execution_count": null,
   "id": "92bad52a",
   "metadata": {},
   "outputs": [],
   "source": []
  },
  {
   "cell_type": "code",
   "execution_count": null,
   "id": "6495e3cd",
   "metadata": {},
   "outputs": [],
   "source": []
  },
  {
   "cell_type": "code",
   "execution_count": null,
   "id": "281d0d4a",
   "metadata": {},
   "outputs": [],
   "source": []
  },
  {
   "cell_type": "code",
   "execution_count": null,
   "id": "1fc586b4",
   "metadata": {},
   "outputs": [],
   "source": []
  },
  {
   "cell_type": "code",
   "execution_count": null,
   "id": "433b32c6",
   "metadata": {},
   "outputs": [],
   "source": []
  }
 ],
 "metadata": {
  "kernelspec": {
   "display_name": "Python 3",
   "language": "python",
   "name": "python3"
  },
  "language_info": {
   "codemirror_mode": {
    "name": "ipython",
    "version": 3
   },
   "file_extension": ".py",
   "mimetype": "text/x-python",
   "name": "python",
   "nbconvert_exporter": "python",
   "pygments_lexer": "ipython3",
   "version": "3.8.8"
  }
 },
 "nbformat": 4,
 "nbformat_minor": 5
}
